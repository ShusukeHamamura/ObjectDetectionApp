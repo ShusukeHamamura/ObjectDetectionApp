{
 "cells": [
  {
   "cell_type": "code",
   "execution_count": 3,
   "metadata": {},
   "outputs": [
    {
     "name": "stdout",
     "output_type": "stream",
     "text": [
      "こんにちは\n",
      "hello\n"
     ]
    }
   ],
   "source": [
    "def hello(a):\n",
    "    print(a)\n",
    "    \n",
    "hello(\"こんにちは\")\n",
    "eval(\"hello('hello')\")"
   ]
  },
  {
   "cell_type": "code",
   "execution_count": 12,
   "metadata": {},
   "outputs": [
    {
     "name": "stdout",
     "output_type": "stream",
     "text": [
      "['.jpg', '.png']\n"
     ]
    }
   ],
   "source": [
    "filetypes = [\".jpg\", \".png\", \".mp4\", \".mov\"]\n",
    "\n",
    "print(filetypes[0:2])"
   ]
  },
  {
   "cell_type": "code",
   "execution_count": 13,
   "metadata": {},
   "outputs": [],
   "source": [
    "import cv2\n",
    "cap = cv2.VideoCapture(\"./inference/videos/sample.mp4\")\n",
    "__, img = cap.read()\n",
    "w = int(cap.get(cv2.CAP_PROP_FRAME_WIDTH))\n",
    "h = int(cap.get(cv2.CAP_PROP_FRAME_HEIGHT))\n",
    "\n",
    "img = img.resize((500,500))"
   ]
  }
 ],
 "metadata": {
  "kernelspec": {
   "display_name": "base",
   "language": "python",
   "name": "python3"
  },
  "language_info": {
   "codemirror_mode": {
    "name": "ipython",
    "version": 3
   },
   "file_extension": ".py",
   "mimetype": "text/x-python",
   "name": "python",
   "nbconvert_exporter": "python",
   "pygments_lexer": "ipython3",
   "version": "3.8.8"
  },
  "orig_nbformat": 4,
  "vscode": {
   "interpreter": {
    "hash": "9805fd44dd986cd490620804b04eb2bd97e16ceaa5b9ad4a561eaa8320f44d6b"
   }
  }
 },
 "nbformat": 4,
 "nbformat_minor": 2
}
